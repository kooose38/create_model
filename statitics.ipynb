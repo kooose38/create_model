{
  "nbformat": 4,
  "nbformat_minor": 0,
  "metadata": {
    "colab": {
      "name": "statitics.ipynb",
      "provenance": [],
      "authorship_tag": "ABX9TyPfwHEGED2vv+g68ygHQ8PX",
      "include_colab_link": true
    },
    "kernelspec": {
      "name": "python3",
      "display_name": "Python 3"
    }
  },
  "cells": [
    {
      "cell_type": "markdown",
      "metadata": {
        "id": "view-in-github",
        "colab_type": "text"
      },
      "source": [
        "<a href=\"https://colab.research.google.com/github/kooose38/create_model/blob/dev/statitics.ipynb\" target=\"_parent\"><img src=\"https://colab.research.google.com/assets/colab-badge.svg\" alt=\"Open In Colab\"/></a>"
      ]
    },
    {
      "cell_type": "markdown",
      "metadata": {
        "id": "YcCcAQG3Vb3Z"
      },
      "source": [
        "\r\n",
        "\r\n",
        "*   **記述統計**...標本から分析すること\r\n",
        "*   **推論統計**...母集団の予測をすること\r\n",
        "\r\n",
        "\r\n"
      ]
    },
    {
      "cell_type": "markdown",
      "metadata": {
        "id": "ZXro8wCdWr7s"
      },
      "source": [
        "### 算術平均\r\n",
        "\r\n",
        "平均値 = 合計 /　個数\r\n",
        "\r\n",
        "np.sum()/len()\r\n",
        "\r\n",
        "なお、外れ値の影響が大きい。"
      ]
    },
    {
      "cell_type": "code",
      "metadata": {
        "id": "HCJJgx_MTmTC"
      },
      "source": [
        "import numpy as np \r\n",
        "import matplotlib.pyplot as plt \r\n",
        "import pandas as pd \r\n",
        "import time\r\n",
        "from scipy import stats\r\n",
        "import seaborn as sns "
      ],
      "execution_count": 21,
      "outputs": []
    },
    {
      "cell_type": "code",
      "metadata": {
        "colab": {
          "base_uri": "https://localhost:8080/"
        },
        "id": "bwHny1-QW1bs",
        "outputId": "300d731a-0da4-4122-989f-ed8856e963c4"
      },
      "source": [
        "apple_weight=np.random.randint(1,100,10)\r\n",
        "apple_weight,np.mean(apple_weight)"
      ],
      "execution_count": 2,
      "outputs": [
        {
          "output_type": "execute_result",
          "data": {
            "text/plain": [
              "(array([41, 79, 65, 68, 69, 55, 21, 82, 47, 63]), 59.0)"
            ]
          },
          "metadata": {
            "tags": []
          },
          "execution_count": 2
        }
      ]
    },
    {
      "cell_type": "markdown",
      "metadata": {
        "id": "AaxouGcJYC9C"
      },
      "source": [
        "### 幾何平均\r\n",
        "dataの比率\r\n",
        "\r\n",
        "> ex)　平均賞与率を求める際に、前年比をgとすると\r\n",
        "\r\n",
        "```\r\n",
        " 500(1+g)(1+g)(1+g)=750.75  \r\n",
        " m=(1+g)\r\n",
        " m**3=(1+g)*3\r\n",
        " m=squr((1+g),3)\r\n",
        "```\r\n",
        "\r\n"
      ]
    },
    {
      "cell_type": "code",
      "metadata": {
        "colab": {
          "base_uri": "https://localhost:8080/"
        },
        "id": "mXn6CCiGYTMY",
        "outputId": "f02c8d5a-825a-4b1c-d9c1-863a6ce1b054"
      },
      "source": [
        "salary_glowth=np.random.rand(3)\r\n",
        "stats.gmean(salary_glowth)"
      ],
      "execution_count": 3,
      "outputs": [
        {
          "output_type": "execute_result",
          "data": {
            "text/plain": [
              "0.624473997125037"
            ]
          },
          "metadata": {
            "tags": []
          },
          "execution_count": 3
        }
      ]
    },
    {
      "cell_type": "markdown",
      "metadata": {
        "id": "JPPvrmYaal1I"
      },
      "source": [
        "### 調和平均\r\n",
        "\r\n",
        "> ex)　往復した道のりを2dとして、行きの速さがx1 ,帰りの速さがx2としたときの平均の速度について求めたい。\r\n",
        "\r\n",
        "\r\n",
        "\r\n",
        "```\r\n",
        " hours = (d/x1)+(d/x2)\r\n",
        " 2d/hours\r\n",
        " =1/(1/2( 1/x1 + 1/x2 ))\r\n",
        " =(1/x1 + 1/x2)/2\r\n",
        "```\r\n",
        "**逆数の算術平均の逆数の形と一致**\r\n",
        "\r\n",
        "\r\n",
        "算術平均の形なら、\r\n",
        "> (x1+x2)/2  \r\n",
        "\r\n",
        "\r\n",
        "になる。\r\n",
        "\r\n"
      ]
    },
    {
      "cell_type": "code",
      "metadata": {
        "colab": {
          "base_uri": "https://localhost:8080/"
        },
        "id": "D2-PwSTHYcqC",
        "outputId": "e1e9affd-7edd-45a3-e6f0-37c1a1f6ffc0"
      },
      "source": [
        "sample_data=[20,60]\r\n",
        "stats.hmean(sample_data)"
      ],
      "execution_count": 4,
      "outputs": [
        {
          "output_type": "execute_result",
          "data": {
            "text/plain": [
              "30.0"
            ]
          },
          "metadata": {
            "tags": []
          },
          "execution_count": 4
        }
      ]
    },
    {
      "cell_type": "markdown",
      "metadata": {
        "id": "nEMSr1jFc8Wh"
      },
      "source": [
        "算術平均の性質として、  \r\n",
        "**平均から引いたすべてのデータの合計値は0になること**  \r\n",
        "平均はデータの真ん中に位置するので、プラスとマイナスが打ち消し合って0になるということである。  \r\n",
        "平均からの差を**偏差**と呼ぶ。"
      ]
    },
    {
      "cell_type": "code",
      "metadata": {
        "colab": {
          "base_uri": "https://localhost:8080/"
        },
        "id": "m2oLZmJ1cvcj",
        "outputId": "6d3750c1-f1dd-44d0-ff68-14c5653b8a4a"
      },
      "source": [
        "app_mean=np.mean(apple_weight)\r\n",
        "np.sum(apple_weight-app_mean)"
      ],
      "execution_count": 5,
      "outputs": [
        {
          "output_type": "execute_result",
          "data": {
            "text/plain": [
              "0.0"
            ]
          },
          "metadata": {
            "tags": []
          },
          "execution_count": 5
        }
      ]
    },
    {
      "cell_type": "markdown",
      "metadata": {
        "id": "VxLsu086e67B"
      },
      "source": [
        "# 中央値\r\n",
        "\r\n",
        "データの中央に位置する値。外れ値に強い。  \r\n",
        "平均に比べて計算量が多いので、大規模データの扱いに注意。"
      ]
    },
    {
      "cell_type": "code",
      "metadata": {
        "colab": {
          "base_uri": "https://localhost:8080/"
        },
        "id": "bWsSNKnNdqHe",
        "outputId": "c74ec3db-af01-4c1a-e83a-9ad599426546"
      },
      "source": [
        "num=np.random.randn(10**8)\r\n",
        "num.shape"
      ],
      "execution_count": 6,
      "outputs": [
        {
          "output_type": "execute_result",
          "data": {
            "text/plain": [
              "(100000000,)"
            ]
          },
          "metadata": {
            "tags": []
          },
          "execution_count": 6
        }
      ]
    },
    {
      "cell_type": "markdown",
      "metadata": {
        "id": "NPHK_s4WfYRY"
      },
      "source": [
        "まずは平均から"
      ]
    },
    {
      "cell_type": "code",
      "metadata": {
        "colab": {
          "base_uri": "https://localhost:8080/"
        },
        "id": "ehrUIYYafKFX",
        "outputId": "5abd4867-a042-46e7-cd53-8d786ec5f0ab"
      },
      "source": [
        "before_time=time.time()\r\n",
        "\r\n",
        "mean=np.mean(num)\r\n",
        "\r\n",
        "after_time=time.time()\r\n",
        "times=after_time-before_time\r\n",
        "print('mean={mean:.3f},times={times:.3f}'.format(mean=mean,times=times))"
      ],
      "execution_count": 7,
      "outputs": [
        {
          "output_type": "stream",
          "text": [
            "mean=0.000,times=0.074\n"
          ],
          "name": "stdout"
        }
      ]
    },
    {
      "cell_type": "markdown",
      "metadata": {
        "id": "hmBrBtD1gAVx"
      },
      "source": [
        "次に中央値。"
      ]
    },
    {
      "cell_type": "code",
      "metadata": {
        "colab": {
          "base_uri": "https://localhost:8080/"
        },
        "id": "t3AsYL7Sf6Gs",
        "outputId": "1f50c5fb-e37b-471f-e136-6013c2c48ebb"
      },
      "source": [
        "before_time=time.time()\r\n",
        "\r\n",
        "median=np.median(num)\r\n",
        "after_time=time.time()\r\n",
        "times=after_time-before_time\r\n",
        "print('median={median:.3f},times={times:.3f}'.format(median=median,times=times))"
      ],
      "execution_count": 9,
      "outputs": [
        {
          "output_type": "stream",
          "text": [
            "median=0.000,times=1.786\n"
          ],
          "name": "stdout"
        }
      ]
    },
    {
      "cell_type": "markdown",
      "metadata": {
        "id": "1OBo36TehAJX"
      },
      "source": [
        "### 最頻値\r\n",
        "ヒストグラムで山が最も大きくなる値。確率密度が最も大きいといえる。\r\n",
        "例えば、データが極端にある値に集中している場合には、平均や中央値よりも最頻値を用いるのが適しているといえる。\r\n",
        "\r\n",
        "\r\n",
        "\r\n",
        "```\r\n",
        " stats.mode()\r\n",
        "```\r\n",
        "第一引数には、実際の値。第二引数には、値が観測された個数。\r\n",
        "\r\n"
      ]
    },
    {
      "cell_type": "code",
      "metadata": {
        "colab": {
          "base_uri": "https://localhost:8080/"
        },
        "id": "62quU8aggWVp",
        "outputId": "3228ce70-b869-4bfa-d26e-eaf891118966"
      },
      "source": [
        "mode,count=stats.mode(apple_weight)\r\n",
        "print(mode,count)"
      ],
      "execution_count": 11,
      "outputs": [
        {
          "output_type": "stream",
          "text": [
            "[21] [1]\n"
          ],
          "name": "stdout"
        }
      ]
    },
    {
      "cell_type": "markdown",
      "metadata": {
        "id": "Kst2C0lAh94c"
      },
      "source": [
        "\r\n",
        "columns\r\n",
        "```\r\n",
        " axis=0\r\n",
        "```\r\n",
        "rows\r\n",
        "\r\n",
        "```\r\n",
        " axis=1\r\n",
        "```\r\n",
        "\r\n",
        "\r\n"
      ]
    },
    {
      "cell_type": "code",
      "metadata": {
        "colab": {
          "base_uri": "https://localhost:8080/"
        },
        "id": "4HnSgrYBhn1R",
        "outputId": "5fe66a3d-8b96-4e90-e57a-53942db298b1"
      },
      "source": [
        "array=np.array([[1,2,5,6],\r\n",
        "               [1,1,6,8],\r\n",
        "               [8,3,8,9],\r\n",
        "               [2,2,2,6]])\r\n",
        "mode,count=stats.mode(array,axis=0)\r\n",
        "print(mode,count)"
      ],
      "execution_count": 14,
      "outputs": [
        {
          "output_type": "stream",
          "text": [
            "[[1 2 2 6]] [[2 2 1 2]]\n"
          ],
          "name": "stdout"
        }
      ]
    },
    {
      "cell_type": "markdown",
      "metadata": {
        "id": "Uud2sbeWjkKE"
      },
      "source": [
        "### 最大値、最小値\r\n",
        "データから平均を伝える際に、どれだけのデータのばらつきがあるのかを最大最小値によってイメージしやすくなるメリットがある。しかし、これでは外れ値があった場合に不都合だ。そこで**四分位数**を使う。  \r\n",
        "*Q1* *Q2* *Q3*として*Q2*は中央値。さらにそれぞれ中央値をもとめたものが*Q1* *Q3*。  \r\n",
        "これにより外れ値の影響が少なくなるといえる。\r\n",
        "\r\n",
        "\r\n",
        "\r\n",
        "> boxplotによってデータの散らばり具合を可視化。\r\n",
        "\r\n"
      ]
    },
    {
      "cell_type": "code",
      "metadata": {
        "colab": {
          "base_uri": "https://localhost:8080/",
          "height": 444
        },
        "id": "gGi2rHz0iW_a",
        "outputId": "1cf4a735-94b2-4467-b8d2-7c150dca536c"
      },
      "source": [
        "data=np.random.randint(1,100,20)\r\n",
        "iqr=stats.iqr(data)\r\n",
        "qr=iqr/2\r\n",
        "\r\n",
        "plt.figure(figsize=(16,6))\r\n",
        "plt.subplot(1,2,1)\r\n",
        "plt.boxplot(data)\r\n",
        "plt.title('iqr={0},qr={1}'.format(iqr,qr))\r\n",
        "\r\n",
        "plt.subplot(1,2,2)\r\n",
        "sns.distplot(data)\r\n",
        "plt.vlines(iqr,0,0.010,'r',label='iqr')\r\n",
        "plt.vlines(iqr+qr,0,0.010,'b',label='qr')\r\n",
        "plt.vlines(iqr-qr,0,0.010,'b',label='qr')\r\n",
        "plt.legend()\r\n",
        "plt.show()"
      ],
      "execution_count": 27,
      "outputs": [
        {
          "output_type": "stream",
          "text": [
            "/usr/local/lib/python3.7/dist-packages/seaborn/distributions.py:2557: FutureWarning: `distplot` is a deprecated function and will be removed in a future version. Please adapt your code to use either `displot` (a figure-level function with similar flexibility) or `histplot` (an axes-level function for histograms).\n",
            "  warnings.warn(msg, FutureWarning)\n"
          ],
          "name": "stderr"
        },
        {
          "output_type": "display_data",
          "data": {
            "image/png": "[encoded data removed]",
            "text/plain": [
              "<Figure size 1152x432 with 2 Axes>"
            ]
          },
          "metadata": {
            "tags": [],
            "needs_background": "light"
          }
        }
      ]
    },
    {
      "cell_type": "markdown",
      "metadata": {
        "id": "49fUia1aou6Q"
      },
      "source": [
        "# 平均偏差(MD)\r\n",
        "データの各値が平均からどれだけ離れているかを足し合わせた値から平均をとったもの。つまり偏差の絶対値に合計。  \r\n",
        "MDが小さいほどデータのばらつきは小さく、大きければばらつきが大きいといえる。  \r\n",
        "ただし、絶対値だとすべて足し合わせることで０になってしまうので、２乗を使う。  \r\n",
        "これを**分散**という。  \r\n",
        "ただし、2乗することで実際の値と異なるので分散の平方根をとった値、これが**平均偏差**になる。\r\n",
        "\r\n",
        "\r\n",
        "\r\n",
        "*   s**2=分散\r\n",
        "*   s=平均偏差\r\n",
        "\r\n"
      ]
    },
    {
      "cell_type": "code",
      "metadata": {
        "colab": {
          "base_uri": "https://localhost:8080/"
        },
        "id": "TY7sNjNJk8kp",
        "outputId": "82037ae5-2fa1-48b5-ef47-6052ce5988e8"
      },
      "source": [
        "def get_var(samples):\r\n",
        "  mean=np.mean(samples)\r\n",
        "\r\n",
        "  div=(samples-mean)*(samples-mean)\r\n",
        "  var=np.sum(div)/len(samples)\r\n",
        "  std=np.sqrt(var)\r\n",
        "  return var,std\r\n",
        "\r\n",
        "samples=np.random.rand(100)\r\n",
        "var,std=get_var(samples)\r\n",
        "print('var={},std={}'.format(var,std))"
      ],
      "execution_count": 28,
      "outputs": [
        {
          "output_type": "stream",
          "text": [
            "var=0.07932617096284104,std=0.2816490208803166\n"
          ],
          "name": "stdout"
        }
      ]
    },
    {
      "cell_type": "code",
      "metadata": {
        "colab": {
          "base_uri": "https://localhost:8080/"
        },
        "id": "P05UTY1VrSQh",
        "outputId": "0b97dc4d-c226-4f79-b20d-58a602ddaad9"
      },
      "source": [
        "np.var(samples),np.std(samples)"
      ],
      "execution_count": 29,
      "outputs": [
        {
          "output_type": "execute_result",
          "data": {
            "text/plain": [
              "(0.07932617096284104, 0.2816490208803166)"
            ]
          },
          "metadata": {
            "tags": []
          },
          "execution_count": 29
        }
      ]
    },
    {
      "cell_type": "markdown",
      "metadata": {
        "id": "OcuKAzfHruGy"
      },
      "source": [
        "scipyを用いてs,s**2を求める。"
      ]
    },
    {
      "cell_type": "code",
      "metadata": {
        "colab": {
          "base_uri": "https://localhost:8080/"
        },
        "id": "0WSSmbf0rWvF",
        "outputId": "0c9cc8d0-fa1e-4325-f13b-1955181e9367"
      },
      "source": [
        "tvar=stats.tvar(samples)\r\n",
        "tstd=stats.tstd(samples)\r\n",
        "print(tvar,tstd)"
      ],
      "execution_count": 30,
      "outputs": [
        {
          "output_type": "stream",
          "text": [
            "0.08012744541701115 0.28306791661544967\n"
          ],
          "name": "stdout"
        }
      ]
    },
    {
      "cell_type": "markdown",
      "metadata": {
        "id": "DhX3LwKYsEuY"
      },
      "source": [
        "pandasを用いてs,s**2を求める"
      ]
    },
    {
      "cell_type": "code",
      "metadata": {
        "colab": {
          "base_uri": "https://localhost:8080/"
        },
        "id": "Fuxjz_X2rqfk",
        "outputId": "15e0ba80-a2b7-4256-8418-e2418bbbe70e"
      },
      "source": [
        "df=pd.DataFrame([samples]).T\r\n",
        "df[0].var(),df[0].std()"
      ],
      "execution_count": 33,
      "outputs": [
        {
          "output_type": "execute_result",
          "data": {
            "text/plain": [
              "(0.08012744541701111, 0.28306791661544956)"
            ]
          },
          "metadata": {
            "tags": []
          },
          "execution_count": 33
        }
      ]
    },
    {
      "cell_type": "markdown",
      "metadata": {
        "id": "hpFWkVhKs7Io"
      },
      "source": [
        "# 不遍分散\r\n",
        "\r\n",
        "\r\n",
        "*   母集団分散の推定量である\r\n",
        "*   ある値が平均的に母集団のパラメータと一致する場合、この推定量は不偏である。\r\n",
        "*   分散に対してデータの個数n個でなく **(n-1)** で割る。\r\n",
        "\r\n"
      ]
    },
    {
      "cell_type": "code",
      "metadata": {
        "colab": {
          "base_uri": "https://localhost:8080/"
        },
        "id": "BkWW_tvYr6PF",
        "outputId": "cb71be76-7b45-429a-f49c-296f5487727c"
      },
      "source": [
        "samples=np.random.rand(100)\r\n",
        "mean=np.mean(samples)\r\n",
        "\r\n",
        "data=[]\r\n",
        "for i in range(1000):\r\n",
        "  sample=np.random.choice(samples,size=5)\r\n",
        "  choice_mean=np.mean(sample)\r\n",
        "  data.append(choice_mean)\r\n",
        "\r\n",
        "print('mean={0},choicies_mean={1}'.format(mean,np.mean(data)))"
      ],
      "execution_count": 35,
      "outputs": [
        {
          "output_type": "stream",
          "text": [
            "mean=0.49332065947727366,choicies_mean=0.4956820021105569\n"
          ],
          "name": "stdout"
        }
      ]
    },
    {
      "cell_type": "markdown",
      "metadata": {
        "id": "q8lwVwrau4KH"
      },
      "source": [
        "**このように、標本から1000回抽出したデータの平均値は、母集団の平均値に限りなく近くなる。**  \r\n",
        "つまり、**標本の平均は母集団平均の不偏推定量である**といえる。  \r\n",
        "これは分散、標準偏差も当てはまる。  \r\n",
        "またこれらは**確率的に変動する**。"
      ]
    },
    {
      "cell_type": "code",
      "metadata": {
        "colab": {
          "base_uri": "https://localhost:8080/",
          "height": 319
        },
        "id": "dcUdKrg-ueAO",
        "outputId": "fbc696a4-dc5b-4e15-a88a-153e06b7f5f1"
      },
      "source": [
        "sns.distplot(data)\r\n",
        "plt.vlines(mean,0,1.5,'r',label='mean')\r\n",
        "plt.legend()\r\n",
        "plt.show()"
      ],
      "execution_count": 39,
      "outputs": [
        {
          "output_type": "stream",
          "text": [
            "/usr/local/lib/python3.7/dist-packages/seaborn/distributions.py:2557: FutureWarning: `distplot` is a deprecated function and will be removed in a future version. Please adapt your code to use either `displot` (a figure-level function with similar flexibility) or `histplot` (an axes-level function for histograms).\n",
            "  warnings.warn(msg, FutureWarning)\n"
          ],
          "name": "stderr"
        },
        {
          "output_type": "display_data",
          "data": {
            "image/png": "[encoded data removed]",
            "text/plain": [
              "<Figure size 432x288 with 1 Axes>"
            ]
          },
          "metadata": {
            "tags": [],
            "needs_background": "light"
          }
        }
      ]
    },
    {
      "cell_type": "markdown",
      "metadata": {
        "id": "A80I9E78xqjX"
      },
      "source": [
        "\r\n",
        "\r\n",
        "1.   (mean+std) 2/3のデータ\r\n",
        "2.   (mean+std*2) 95%のデータ\r\n",
        "2.   (mean+std*3) 99.9%のデータ\r\n",
        "\r\n",
        "\r\n"
      ]
    },
    {
      "cell_type": "code",
      "metadata": {
        "colab": {
          "base_uri": "https://localhost:8080/"
        },
        "id": "2lRmYzW4uosm",
        "outputId": "96b0d0c8-d14e-40eb-8da8-c3beb3a754a5"
      },
      "source": [
        "rand=np.random.rand(1000)\r\n",
        "\r\n",
        "mean=np.sum(rand)/len(rand)\r\n",
        "var=np.sum((rand-mean)**2)/len(rand)\r\n",
        "std=np.sqrt(var)\r\n",
        "\r\n",
        "count=0\r\n",
        "\r\n",
        "for i in rand:\r\n",
        "  if i > mean-std and i < mean+std:\r\n",
        "    count += 1\r\n",
        "print('{:.1f}% of the numbers includeed within mean std'.format(count/len(rand)*100))"
      ],
      "execution_count": 45,
      "outputs": [
        {
          "output_type": "stream",
          "text": [
            "56.5% of the numbers includeed within mean std\n"
          ],
          "name": "stdout"
        }
      ]
    },
    {
      "cell_type": "code",
      "metadata": {
        "colab": {
          "base_uri": "https://localhost:8080/",
          "height": 320
        },
        "id": "CqfIkqNWy8-m",
        "outputId": "cc9a052e-f312-40b3-b973-8df168da362d"
      },
      "source": [
        "sns.distplot(rand)\r\n",
        "plt.vlines(mean,0,1.0,'r',label='mean')\r\n",
        "plt.vlines(mean-std,0,1.0,'b',label='std')\r\n",
        "plt.vlines(mean+std,0,1.0,'b')\r\n",
        "plt.vlines(mean-std*2,0,1.0,'g',label='std*2')\r\n",
        "plt.vlines(mean+std*2,0,1.0,'g')\r\n",
        "plt.legend()\r\n",
        "plt.show()"
      ],
      "execution_count": 47,
      "outputs": [
        {
          "output_type": "stream",
          "text": [
            "/usr/local/lib/python3.7/dist-packages/seaborn/distributions.py:2557: FutureWarning: `distplot` is a deprecated function and will be removed in a future version. Please adapt your code to use either `displot` (a figure-level function with similar flexibility) or `histplot` (an axes-level function for histograms).\n",
            "  warnings.warn(msg, FutureWarning)\n"
          ],
          "name": "stderr"
        },
        {
          "output_type": "display_data",
          "data": {
            "image/png": "[encoded data removed]",
            "text/plain": [
              "<Figure size 432x288 with 1 Axes>"
            ]
          },
          "metadata": {
            "tags": [],
            "needs_background": "light"
          }
        }
      ]
    },
    {
      "cell_type": "markdown",
      "metadata": {
        "id": "WRmGL8ZD0x05"
      },
      "source": [
        "# 標準化(z)\r\n",
        "平均０、分散１となるようなデータ集合体。\r\n",
        "\r\n",
        "\r\n",
        "> あるデータ集合体xを標準化する。 \r\n",
        "\r\n",
        "```\r\n",
        " z = ( x-np.mean(x) )/np.std(x)\r\n",
        "```\r\n",
        "**データをばらつきの割合はそのままで中央に寄せたイメージ**\r\n"
      ]
    },
    {
      "cell_type": "code",
      "metadata": {
        "colab": {
          "base_uri": "https://localhost:8080/"
        },
        "id": "q3wzsXnCzhjE",
        "outputId": "55edffe7-c0fb-4d6a-b0f0-5be93922222a"
      },
      "source": [
        "samples=np.random.randn(1000)\r\n",
        "\r\n",
        "mean=np.sum(samples)/len(samples)\r\n",
        "var=np.sum((samples-mean)**2)/len(samples)\r\n",
        "std=np.sqrt(var)\r\n",
        "\r\n",
        "z=(samples-mean)/std\r\n",
        "z[:10]"
      ],
      "execution_count": 68,
      "outputs": [
        {
          "output_type": "execute_result",
          "data": {
            "text/plain": [
              "array([-1.06090961, -0.65848639,  0.84120875,  0.02854689, -0.81403562,\n",
              "        1.02812921, -1.16756806,  0.39768483, -0.40707332,  0.97472104])"
            ]
          },
          "metadata": {
            "tags": []
          },
          "execution_count": 68
        }
      ]
    },
    {
      "cell_type": "code",
      "metadata": {
        "colab": {
          "base_uri": "https://localhost:8080/"
        },
        "id": "ea9gvrMe1pKd",
        "outputId": "e1526c0f-ecff-4329-9793-08c73a1b7526"
      },
      "source": [
        "np.mean(z),np.var(z)"
      ],
      "execution_count": 64,
      "outputs": [
        {
          "output_type": "execute_result",
          "data": {
            "text/plain": [
              "(0.0, 1.0000000000000002)"
            ]
          },
          "metadata": {
            "tags": []
          },
          "execution_count": 64
        }
      ]
    },
    {
      "cell_type": "code",
      "metadata": {
        "id": "M5zu2VEs16K6"
      },
      "source": [
        "from sklearn.preprocessing import StandardScaler"
      ],
      "execution_count": 65,
      "outputs": []
    },
    {
      "cell_type": "code",
      "metadata": {
        "colab": {
          "base_uri": "https://localhost:8080/"
        },
        "id": "npxXwFYE2GXq",
        "outputId": "1a9a9c3a-d16c-43b5-c10c-bde50d265ba9"
      },
      "source": [
        "scaler=StandardScaler()\r\n",
        "scaler.fit_transform(samples.reshape(-1,1)).ravel()[:1]"
      ],
      "execution_count": 67,
      "outputs": [
        {
          "output_type": "execute_result",
          "data": {
            "text/plain": [
              "array([1.77919883])"
            ]
          },
          "metadata": {
            "tags": []
          },
          "execution_count": 67
        }
      ]
    },
    {
      "cell_type": "markdown",
      "metadata": {
        "id": "iVOKYRRI3D6y"
      },
      "source": [
        "ちなみに、zに*10+50で偏差値になる。"
      ]
    },
    {
      "cell_type": "code",
      "metadata": {
        "colab": {
          "base_uri": "https://localhost:8080/",
          "height": 319
        },
        "id": "5lps0b7O2LrL",
        "outputId": "abf9719e-544c-459b-ebf0-64252388da0b"
      },
      "source": [
        "sns.distplot(z*10+50)\r\n",
        "plt.vlines(70,0,0.04,'r',label='score:70')\r\n",
        "plt.legend()\r\n",
        "plt.show()"
      ],
      "execution_count": 71,
      "outputs": [
        {
          "output_type": "stream",
          "text": [
            "/usr/local/lib/python3.7/dist-packages/seaborn/distributions.py:2557: FutureWarning: `distplot` is a deprecated function and will be removed in a future version. Please adapt your code to use either `displot` (a figure-level function with similar flexibility) or `histplot` (an axes-level function for histograms).\n",
            "  warnings.warn(msg, FutureWarning)\n"
          ],
          "name": "stderr"
        },
        {
          "output_type": "display_data",
          "data": {
            "image/png": "[encoded data removed]",
            "text/plain": [
              "<Figure size 432x288 with 1 Axes>"
            ]
          },
          "metadata": {
            "tags": [],
            "needs_background": "light"
          }
        }
      ]
    },
    {
      "cell_type": "code",
      "metadata": {
        "id": "t_7AIrc72tE7"
      },
      "source": [
        ""
      ],
      "execution_count": null,
      "outputs": []
    }
  ]
}